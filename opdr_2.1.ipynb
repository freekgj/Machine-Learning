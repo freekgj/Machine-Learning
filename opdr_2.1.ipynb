{
 "cells": [
  {
   "cell_type": "code",
   "execution_count": 1,
   "id": "digital-marketplace",
   "metadata": {},
   "outputs": [],
   "source": [
    "class Gate:\n",
    "    def __init__(self, weights, bias):\n",
    "        self.weights = weights\n",
    "        self.bias = bias\n",
    "        \n",
    "    def calculate(self, inputs):\n",
    "        output = []\n",
    "        for input_X, weight in zip(inputs, self.weights):\n",
    "            output.append(input_X*weight)\n",
    "        return int(sum(output) >= self.bias)\n",
    "            \n",
    "            "
   ]
  },
  {
   "cell_type": "code",
   "execution_count": 2,
   "id": "nominated-brooklyn",
   "metadata": {},
   "outputs": [],
   "source": [
    "gate_and = Gate([1,1], 2)\n",
    "gate_or = Gate([1,1], 1)"
   ]
  },
  {
   "cell_type": "code",
   "execution_count": 4,
   "id": "focal-bermuda",
   "metadata": {},
   "outputs": [
    {
     "name": "stdout",
     "output_type": "stream",
     "text": [
      "0\n",
      "0\n",
      "0\n",
      "1\n",
      "\n",
      "\n",
      "0\n",
      "1\n",
      "1\n",
      "1\n"
     ]
    }
   ],
   "source": [
    "inputs = [[0,0],[0,1],[1,0],[1,1]]\n",
    "\n",
    "for input_x in inputs:\n",
    "    print(gate_and.calculate(input_x))\n",
    "print('\\n')\n",
    "for input_x in inputs:\n",
    "    print(gate_or.calculate(input_x))"
   ]
  },
  {
   "cell_type": "code",
   "execution_count": null,
   "id": "chubby-joint",
   "metadata": {},
   "outputs": [],
   "source": []
  },
  {
   "cell_type": "code",
   "execution_count": null,
   "id": "desirable-fraction",
   "metadata": {},
   "outputs": [],
   "source": []
  }
 ],
 "metadata": {
  "kernelspec": {
   "display_name": "Python 3",
   "language": "python",
   "name": "python3"
  },
  "language_info": {
   "codemirror_mode": {
    "name": "ipython",
    "version": 3
   },
   "file_extension": ".py",
   "mimetype": "text/x-python",
   "name": "python",
   "nbconvert_exporter": "python",
   "pygments_lexer": "ipython3",
   "version": "3.8.5"
  }
 },
 "nbformat": 4,
 "nbformat_minor": 5
}
