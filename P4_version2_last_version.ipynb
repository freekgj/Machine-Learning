{
 "cells": [
  {
   "cell_type": "code",
   "execution_count": null,
   "metadata": {
    "id": "shQTCIukHDpb"
   },
   "outputs": [],
   "source": [
    "import numpy as np"
   ]
  },
  {
   "cell_type": "code",
   "execution_count": null,
   "metadata": {
    "id": "8LkStgoTHDpl"
   },
   "outputs": [],
   "source": [
    "class Neuron:\n",
    "    def __init__(self, number_of_weights, bias, lr):\n",
    "        self.weights = np.random.normal(0, 1, size=number_of_weights)\n",
    "        self.bias = bias\n",
    "        self.error = 0\n",
    "        self.delta_weights = []\n",
    "        self.delta_bias = 0\n",
    "        self.lr = lr\n",
    "    \n",
    "    def calculate_neuron(self, inputs):\n",
    "        \"\"\"\n",
    "        Calculate the output of this neuron\n",
    "    \n",
    "        \"\"\"\n",
    "        self.inputs = inputs\n",
    "        list_outputs = []\n",
    "        if len(inputs) == len(self.weights):\n",
    "            for x, weight in zip(inputs, self.weights):\n",
    "                list_outputs.append(x*weight)\n",
    "        else:\n",
    "            raise ValueError(\"The list of inputs and weights must have the same length, check if the neurons are well initialised\")\n",
    "        \n",
    "        self.sum_output = sum(list_outputs)\n",
    "        self.outcome = self.sum_output + self.bias\n",
    "        output_sigmoid = self.sigmoid_function(self.outcome)\n",
    "        return output_sigmoid\n",
    "    \n",
    "    def sigmoid_function(self, x):\n",
    "        return 1/(1+np.exp(-x))\n",
    "        \n",
    "    def get_weights_and_error(self):\n",
    "        return [self.weights, self.error]\n",
    "    \n",
    "    def update_neuron(self):\n",
    "        for index in range(len(self.weights)):\n",
    "            self.weights[index] -= self.delta_weights[index]\n",
    "        self.bias-= self.delta_bias\n",
    "        \n",
    "        self.delta_weights = []\n",
    "       \n",
    "        #print('weights = ', self.weights, ' bias = ', self.bias, ' error = ', self.error)\n",
    "            \n",
    "class Output_neuron(Neuron):\n",
    "    def calculate_error(self, output_neuron, target):\n",
    "        self.error = output_neuron * (1 - output_neuron) * - (target - output_neuron)\n",
    "\n",
    "    def gradient(self, input_x):\n",
    "        return input_x * self.error\n",
    "        \n",
    "    def calculate_delta(self, output_neural_network):\n",
    "        for weight, input_x in zip(self.weights, self.inputs):\n",
    "            self.delta_weights.append(self.lr * self.gradient(input_x))\n",
    "        self.delta_bias = self.lr * self.error\n",
    "        \n",
    "class Hidden_neuron(Neuron):\n",
    "    def calculate_error(self, deltas_weights_right_layer):\n",
    "        self.error += sum(deltas_weights_right_layer) \n",
    "        \n",
    "    def calculate_delta(self): # let op dat je de error van de rechter layer pakt klopt dit?\n",
    "        for weight, input_x in zip(self.weights, self.inputs):\n",
    "            self.delta_weights.append(self.error * weight * input_x)\n",
    "        self.delta_bias = self.bias - self.error "
   ]
  },
  {
   "cell_type": "code",
   "execution_count": null,
   "metadata": {
    "id": "74wTTK8mHDpn"
   },
   "outputs": [],
   "source": [
    "class Neuron_layer:\n",
    "    def __init__(self, neurons):\n",
    "        self.neurons = neurons\n",
    "        self.hidden_errors = []\n",
    "    \n",
    "    def calculate_layer(self, inputs):\n",
    "        output = []\n",
    "        for neuron in self.neurons:\n",
    "            output.append(neuron.calculate_neuron(inputs))\n",
    "        return output\n",
    "    \n",
    "    def set_output_layer(self, outputNN, target):\n",
    "        for neuron in self.neurons:\n",
    "            neuron.calculate_error(outputNN, target)\n",
    "            neuron.calculate_delta(outputNN)\n",
    "    \n",
    "    def set_hidden_layer(self, weights_and_error_right_layer): \n",
    "        for index in range(len(self.neurons)):\n",
    "            self.neurons[index].calculate_error([info[0][index]*info[1] for info in weights_and_error_right_layer])\n",
    "            self.neurons[index].calculate_delta()\n",
    "    \n",
    "    def get_weights_and_error(self):\n",
    "        weights_and_error_layer = []\n",
    "        for neuron in self.neurons:\n",
    "            weights_and_error_layer.append(neuron.get_weights_and_error())\n",
    "        return weights_and_error_layer\n",
    "        \n",
    "    def update_layer(self):\n",
    "        for neuron in self.neurons:\n",
    "            neuron.update_neuron()\n",
    "    \n",
    "    def __str__(self):\n",
    "        return f'The layer consist out of these neurons: {self.neurons}'"
   ]
  },
  {
   "cell_type": "code",
   "execution_count": null,
   "metadata": {},
   "outputs": [],
   "source": [
    "# test Neuron layer\n",
    "\n",
    "def test_calculate_layer():\n",
    "    test_neuron1 = Hidden_neuron(2, 0, 0.1)\n",
    "    test_neuron2 = Hidden_neuron(2, 0, 0.1)\n",
    "    test_neuron3 = Output_neuron(2, 0, 0.1)\n",
    "    \n",
    "    test_layer1 = Neuron_layer([test_neuron1, test_neuron2])\n",
    "    test_layer2 = Neuron_layer([test_neuron3])\n",
    "    \n",
    "    test_layer1.calculate_layer()\n",
    "    \n",
    "    assert .404  == test_neuron.error, f' Error {test_neuron.error} does not match with the calculated values.'\n",
    "    print('The calculate_error function works properly')\n"
   ]
  },
  {
   "cell_type": "code",
   "execution_count": null,
   "metadata": {
    "id": "CEOFzMZqHDpo"
   },
   "outputs": [],
   "source": [
    "class Neuron_network:\n",
    "    def __init__(self, neuron_layers):\n",
    "        self.neuron_layers = neuron_layers\n",
    "    \n",
    "    def feed_forward(self, inputs):\n",
    "        #calculated the network by passing in inputs and reassign the output of the first layer to inputs it passes the output of layer A to layer B\n",
    "        for neuron_layer in self.neuron_layers:\n",
    "            inputs = neuron_layer.calculate_layer(inputs)\n",
    "        return inputs\n",
    "    \n",
    "    def __str__(self):\n",
    "        return f'The network consist out of these perceptron_layers: {self.neuron_layers}'\n",
    "    \n",
    "    def total_loss(self, target_list, output_list): # loss function \n",
    "        return np.sum([(a-b)**2 for a,b in zip(target_list, output_list)]) / 2 * len(target_list)\n",
    "    \n",
    "    def train_nn(self, posible_inputs):\n",
    "        \"\"\"\n",
    "        Put in like this [[[0, 0], 0],\n",
    "                          [[0, 1], 0],\n",
    "                          [[1, 0], 0],\n",
    "                          [[1, 1], 1]]\n",
    "        \"\"\"\n",
    "        error = 1 # The error is unknown but will be assigned after the first check\n",
    "        epoch = 0\n",
    "        \n",
    "        error_limit_value = 0.05\n",
    "        while error > error_limit_value: #epoch < 10: #\n",
    "            li = []\n",
    "            for posible_input in posible_inputs:\n",
    "                outputNN = self.feed_forward(posible_input[0])[0]\n",
    "                li.append(outputNN)\n",
    "            \n",
    "                # backpropagation\n",
    "                self.neuron_layers[-1].set_output_layer(outputNN, posible_input[1])\n",
    "                \n",
    "                for left_layer, right_layer in zip(self.neuron_layers[-2::-1], self.neuron_layers[-1::-1]): # Starting at -2 because last layer is output layer\n",
    "                    weights_and_error_next_layer = right_layer.get_weights_and_error()\n",
    "                    left_layer.set_hidden_layer(weights_and_error_next_layer)\n",
    "                \n",
    "                # update\n",
    "                for layer in self.neuron_layers:\n",
    "                    layer.update_layer()\n",
    "            \n",
    "            # check the difference between outcome of the network and the targets\n",
    "            error = self.total_loss([x[1] for x in posible_inputs], li)\n",
    "            print('error = ', error)\n",
    "            if error < error_limit_value:\n",
    "                print('network trained!')\n",
    "                print('epochs = ', epoch)\n",
    "            \n",
    "            epoch+=1\n",
    "            \n",
    "            # shuffle the possible inputs in order to give better learn results\n",
    "            #np.random.shuffle(posible_inputs)"
   ]
  },
  {
   "cell_type": "code",
   "execution_count": null,
   "metadata": {
    "id": "C3K0TuuzHDpp"
   },
   "outputs": [],
   "source": [
    "and_neuron = Output_neuron(2, 0, 0.2)\n",
    "\n",
    "output_layer = Neuron_layer([and_neuron])\n",
    "\n",
    "neural_network_AND = Neuron_network([output_layer])"
   ]
  },
  {
   "cell_type": "code",
   "execution_count": null,
   "metadata": {
    "id": "S3cPwloPHDpq"
   },
   "outputs": [],
   "source": [
    "neural_network_AND.train_nn([[[0, 0], 0],\n",
    "                             [[0, 1], 0],\n",
    "                             [[1, 0], 0],\n",
    "                             [[1, 1], 1]])"
   ]
  },
  {
   "cell_type": "code",
   "execution_count": null,
   "metadata": {
    "colab": {
     "base_uri": "https://localhost:8080/"
    },
    "executionInfo": {
     "elapsed": 1405,
     "status": "ok",
     "timestamp": 1617728495191,
     "user": {
      "displayName": "",
      "photoUrl": "",
      "userId": ""
     },
     "user_tz": -120
    },
    "id": "gQFwJOXRHDps",
    "outputId": "0afcf79a-1a17-4f05-f5e0-b164352fefe6"
   },
   "outputs": [],
   "source": [
    "inputs = [[[0,0],0],\n",
    "          [[0,1],0],\n",
    "          [[1,0],0],\n",
    "          [[1,1],1]]\n",
    "\n",
    "print('x1, x2,           output              expected_output')\n",
    "for input_x in inputs:\n",
    "    print(input_x, '   ', neural_network_AND.feed_forward(input_x[0])[0], '       ', input_x[1])"
   ]
  },
  {
   "cell_type": "code",
   "execution_count": null,
   "metadata": {
    "id": "1r5EvKNDIeOq"
   },
   "outputs": [],
   "source": [
    "nand_neuron_x = Hidden_neuron(2, 0, 0.2)\n",
    "or_neuron_x = Hidden_neuron(2, 0, 0.2)\n",
    "#extra_neuron_1 = Hidden_neuron(2, 0, 0.2, 3)\n",
    "#extra_neuron_2 = Hidden_neuron(2, 0, 0.2, 4)\n",
    "\n",
    "and_neuron_x = Output_neuron(2, 0, 0.2)\n",
    "\n",
    "\n",
    "hidden_layer_x = Neuron_layer([nand_neuron_x, or_neuron_x])\n",
    "output_layer_x = Neuron_layer([and_neuron_x])\n",
    "\n",
    "neural_network_xor = Neuron_network([hidden_layer_x, output_layer_x])"
   ]
  },
  {
   "cell_type": "code",
   "execution_count": null,
   "metadata": {
    "colab": {
     "base_uri": "https://localhost:8080/",
     "height": 387
    },
    "executionInfo": {
     "elapsed": 1362,
     "status": "error",
     "timestamp": 1617728495194,
     "user": {
      "displayName": "",
      "photoUrl": "",
      "userId": ""
     },
     "user_tz": -120
    },
    "id": "zi5zxqd3LJP7",
    "outputId": "fc7e1a46-b7b3-4c55-934a-e40445936290"
   },
   "outputs": [],
   "source": [
    "neural_network_xor.train_nn([[[0, 0], 0],\n",
    "                             [[0, 1], 1],\n",
    "                             [[1, 0], 1],\n",
    "                             [[1, 1], 0]])"
   ]
  },
  {
   "cell_type": "code",
   "execution_count": null,
   "metadata": {},
   "outputs": [],
   "source": [
    "print('done')"
   ]
  },
  {
   "cell_type": "code",
   "execution_count": null,
   "metadata": {},
   "outputs": [],
   "source": [
    "inputs = [[[0,0],0],\n",
    "          [[0,1],1],\n",
    "          [[1,0],1],\n",
    "          [[1,1],0]]\n",
    "\n",
    "print('x1, x2,           output              expected_output')\n",
    "for input_x in inputs:\n",
    "    print(input_x, '   ', neural_network_xor.feed_forward(input_x[0])[0], '       ', input_x[1])"
   ]
  },
  {
   "cell_type": "code",
   "execution_count": null,
   "metadata": {},
   "outputs": [],
   "source": []
  },
  {
   "cell_type": "code",
   "execution_count": null,
   "metadata": {},
   "outputs": [],
   "source": [
    "# test functions for class Neuron\n",
    "\n",
    "def test_calculate_neuron():\n",
    "    test_neuron = Neuron(2, 0, 0.1)\n",
    "    possible_inputs = [[[0, 0], 0],\n",
    "                       [[0, 1], 0],\n",
    "                       [[1, 0], 0],\n",
    "                       [[1, 1], 1]]\n",
    "    answer = [9.357622968839299e-14, 4.5397868702434395e-05, 4.5397868702434395e-05, 0.9999546021312976]\n",
    "        \n",
    "    for index, inputs in zip(range(len(possible_inputs)),possible_inputs):\n",
    "        test_neuron.weights = [20, 20]\n",
    "        test_neuron.bias = -30\n",
    "        test_output = test_neuron.calculate_neuron(inputs[0])\n",
    "        assert test_output == answer[index], f'Input {possible_inputs[index]} does not match with the calculated values.'\n",
    "    print('The calculate_neuron function works properly')\n",
    "\n",
    "def test_sigmoid_function():\n",
    "    test_neuron = Neuron(2, 0, 0.1)\n",
    "    test_output = test_neuron.sigmoid_function(5)\n",
    "    assert test_output == 0.9933071490757153, 'There is something wrong with the formule of the sigmoidfunction.'\n",
    "    print('The sigmoid_function works properly')\n",
    "\n",
    "def test_get_weights_and_error():\n",
    "    test_neuron = Neuron(2, 0, 0.1)\n",
    "    test_neuron.weights = [0.5, 0.6]\n",
    "    test_neuron.error = 0.22\n",
    "    assert test_neuron.get_weights_and_error() == [[0.5, 0.6], 0.22], 'startingvalue of delta_weights are right'\n",
    "    print('The get_weights_and_error function works properly')\n",
    "    \n",
    "def test_update_neuron():\n",
    "    possible_inputs = [[[1, 1], 1]]\n",
    "    test_neuron = Neuron(2, 0, 0.1)\n",
    "    test_neuron.weights = [1,1]\n",
    "    test_neuron.delta_weights = [0.1, 0.2]\n",
    "    test_neuron.delta_bias = 0.3\n",
    "    \n",
    "    test_neuron.update_neuron()\n",
    "    \n",
    "    assert test_neuron.weights == [0.9, 0.8], f'After the update weights should be [0.9, 0.8] instead of {test_neuron.weights}'\n",
    "    assert test_neuron.bias == -0.3, f'After the update the bias should be -0.3 instead of {test_neuron.bias}'\n",
    "    print('The update_neuron function works properly')\n",
    "\n",
    "test_sigmoid_function()    \n",
    "test_calculate_neuron()\n",
    "test_get_weights_and_error()\n",
    "test_update_neuron()"
   ]
  },
  {
   "cell_type": "code",
   "execution_count": null,
   "metadata": {},
   "outputs": [],
   "source": [
    "# test functions for class Output_neuron\n",
    "\n",
    "def test_calculate_error():\n",
    "    test_neuron = Output_neuron(2, 0, 0.1)\n",
    "    test_neuron.calculate_error(0.3, 1)\n",
    "    \n",
    "    assert -0.147 == test_neuron.error, f' Error {test_neuron.error} does not match with the calculated values.'\n",
    "    print('The calculate_error function works properly')\n",
    "\n",
    "def test_gradient():\n",
    "    test_neuron = Output_neuron(2, 0, 0.1)\n",
    "    test_neuron.error = 0.25\n",
    "    test_neuron.gradient(1)\n",
    "    assert 0.25 == test_neuron.error, f' Error {test_neuron.error} does not match with the calculated values.'\n",
    "    print('The calculate_error function works properly')\n",
    "\n",
    "def test_calculate_delta():\n",
    "    test_neuron = Hidden_neuron(2, 0, 0.1)\n",
    "    test_neuron.weights = [0.5, 0.6]\n",
    "    test_neuron.error = 0.22\n",
    "    test_neuron.inputs = [1,1]\n",
    "    test_neuron.calculate_delta()\n",
    "\n",
    "    assert [0.11, 0.132] == test_neuron.delta_weights, f'Error deltaweights {test_neuron.delta_weights} does not match with [0.11, 0.32]'\n",
    "    assert -0.22 == test_neuron.delta_bias, f'Error bias = {test_neuron.delta_bias} does not match with -0.22'\n",
    "    print('The calculate_delta function works properly')\n",
    "    \n",
    "test_calculate_error()\n",
    "test_gradient()\n",
    "test_calculate_delta()"
   ]
  },
  {
   "cell_type": "code",
   "execution_count": null,
   "metadata": {},
   "outputs": [],
   "source": [
    "# test functions for class Hidden_neuron\n",
    "\n",
    "def test_calculate_error():\n",
    "    test_neuron = Hidden_neuron(2, 0, 0.1)\n",
    "    test_neuron.calculate_error([0.28, 0.124])\n",
    "    \n",
    "    assert .404  == test_neuron.error, f' Error {test_neuron.error} does not match with the calculated values.'\n",
    "    print('The calculate_error function works properly')\n",
    "\n",
    "def test_calculate_delta():\n",
    "    test_neuron = Hidden_neuron(2, 0, 0.1)\n",
    "    test_neuron.weights = [0.5, 0.6]\n",
    "    test_neuron.error = 0.22\n",
    "    test_neuron.inputs = [1,1]\n",
    "    test_neuron.calculate_delta()\n",
    "\n",
    "    assert [0.11, 0.132] == test_neuron.delta_weights, f'Error deltaweights {test_neuron.delta_weights} does not match with [0.11, 0.32]'\n",
    "    assert -0.22 == test_neuron.delta_bias, f'Error bias = {test_neuron.delta_bias} does not match with -0.22'\n",
    "    print('The calculate_delta function works properly')\n",
    "    \n",
    "test_calculate_error()    \n",
    "test_calculate_delta()"
   ]
  },
  {
   "cell_type": "code",
   "execution_count": null,
   "metadata": {},
   "outputs": [],
   "source": []
  }
 ],
 "metadata": {
  "colab": {
   "collapsed_sections": [],
   "name": "P4_version2_last_version.ipynb",
   "provenance": [
    {
     "file_id": "https://github.com/freekgj/Machine-Learning/blob/main/P4_version2.ipynb",
     "timestamp": 1617731421436
    }
   ]
  },
  "kernelspec": {
   "display_name": "Python 3",
   "language": "python",
   "name": "python3"
  },
  "language_info": {
   "codemirror_mode": {
    "name": "ipython",
    "version": 3
   },
   "file_extension": ".py",
   "mimetype": "text/x-python",
   "name": "python",
   "nbconvert_exporter": "python",
   "pygments_lexer": "ipython3",
   "version": "3.7.5"
  }
 },
 "nbformat": 4,
 "nbformat_minor": 1
}
