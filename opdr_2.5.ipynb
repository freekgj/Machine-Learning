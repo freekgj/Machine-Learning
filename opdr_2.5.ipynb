{
 "cells": [
  {
   "cell_type": "code",
   "execution_count": 3,
   "id": "rotary-particular",
   "metadata": {},
   "outputs": [],
   "source": [
    "class Gate:\n",
    "    def __init__(self, weights, bias):\n",
    "        self.weights = weights\n",
    "        self.bias = bias\n",
    "        \n",
    "    def calculate(self, inputs):\n",
    "        output = []\n",
    "        for input_X, weight in zip(inputs, self.weights):\n",
    "            #print(input_X, weight)\n",
    "            output.append(input_X*weight)\n",
    "        #print(output, self.bias)\n",
    "        #print((sum(output) >= self.bias))\n",
    "        #print('________')\n",
    "        return int(sum(output) >= self.bias)"
   ]
  },
  {
   "cell_type": "code",
   "execution_count": 4,
   "id": "royal-wednesday",
   "metadata": {},
   "outputs": [],
   "source": [
    "gate_nand = Gate([-.5, -.5], -.5)\n",
    "gate_or = Gate([1, 1], 1)\n",
    "gate_and = Gate([1, 1], 2)"
   ]
  },
  {
   "cell_type": "code",
   "execution_count": 5,
   "id": "typical-mining",
   "metadata": {},
   "outputs": [
    {
     "name": "stdout",
     "output_type": "stream",
     "text": [
      "[0, 0]\n",
      "[0, 1]\n",
      "[0, 1]\n",
      "[1, 0]\n"
     ]
    }
   ],
   "source": [
    "inputs = [[0,0],[0,1],[1,0],[1,1]]\n",
    "\n",
    "for input_x in inputs:\n",
    "    output = []\n",
    "    output_nand = gate_nand.calculate(input_x)\n",
    "    output_or = gate_or.calculate(input_x)\n",
    "    output.append(gate_and.calculate(input_x))\n",
    "    output.append(gate_and.calculate([output_nand, output_or]))\n",
    "    \n",
    "    print(output)"
   ]
  },
  {
   "cell_type": "code",
   "execution_count": 2,
   "id": "objective-volume",
   "metadata": {},
   "outputs": [
    {
     "ename": "TypeError",
     "evalue": "unsupported operand type(s) for +: 'int' and 'NoneType'",
     "output_type": "error",
     "traceback": [
      "\u001b[1;31m---------------------------------------------------------------------------\u001b[0m",
      "\u001b[1;31mTypeError\u001b[0m                                 Traceback (most recent call last)",
      "\u001b[1;32m<ipython-input-2-974d762816af>\u001b[0m in \u001b[0;36m<module>\u001b[1;34m\u001b[0m\n\u001b[0;32m      1\u001b[0m \u001b[0mx\u001b[0m \u001b[1;33m=\u001b[0m \u001b[1;33m[\u001b[0m\u001b[1;36m1\u001b[0m\u001b[1;33m,\u001b[0m \u001b[1;32mNone\u001b[0m\u001b[1;33m]\u001b[0m\u001b[1;33m\u001b[0m\u001b[1;33m\u001b[0m\u001b[0m\n\u001b[1;32m----> 2\u001b[1;33m \u001b[0mprint\u001b[0m\u001b[1;33m(\u001b[0m\u001b[0msum\u001b[0m\u001b[1;33m(\u001b[0m\u001b[0mx\u001b[0m\u001b[1;33m)\u001b[0m\u001b[1;33m)\u001b[0m\u001b[1;33m\u001b[0m\u001b[1;33m\u001b[0m\u001b[0m\n\u001b[0m",
      "\u001b[1;31mTypeError\u001b[0m: unsupported operand type(s) for +: 'int' and 'NoneType'"
     ]
    }
   ],
   "source": [
    "x = [1, None]\n",
    "print(sum(x))"
   ]
  },
  {
   "cell_type": "code",
   "execution_count": null,
   "id": "progressive-despite",
   "metadata": {},
   "outputs": [],
   "source": []
  }
 ],
 "metadata": {
  "kernelspec": {
   "display_name": "Python 3",
   "language": "python",
   "name": "python3"
  },
  "language_info": {
   "codemirror_mode": {
    "name": "ipython",
    "version": 3
   },
   "file_extension": ".py",
   "mimetype": "text/x-python",
   "name": "python",
   "nbconvert_exporter": "python",
   "pygments_lexer": "ipython3",
   "version": "3.8.5"
  }
 },
 "nbformat": 4,
 "nbformat_minor": 5
}
