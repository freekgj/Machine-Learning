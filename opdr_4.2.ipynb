{
 "cells": [
  {
   "cell_type": "code",
   "execution_count": null,
   "metadata": {},
   "outputs": [],
   "source": [
    "import numpy as np\n",
    "\n",
    "class Neuron:\n",
    "    def __init__(self, weights, bias):\n",
    "        self.weights = weights\n",
    "        self.bias = bias\n",
    "    \n",
    "    def calculate_neuron(self, inputs):\n",
    "        \"\"\"\n",
    "        Calculate the output of this neuron\n",
    "        \n",
    "        \"\"\"\n",
    "        list_outputs = []\n",
    "        if len(inputs) == len(self.weights):\n",
    "            for x, weight in zip(inputs, self.weights):\n",
    "                list_outputs.append(x*weight)\n",
    "        else:\n",
    "            raise ValueError(\"The list of inputs and weights must have the same length\")\n",
    "         \n",
    "        outcome = sum(list_outputs) - self.bias \n",
    "        output_sigmoid = self.sigmoid_function(outcome)\n",
    "        return output_sigmoid\n",
    "    \n",
    "    def sigmoid_function(self, x):\n",
    "        return 1/(1+np.exp(-x))\n",
    "    \n",
    "    def __str__(self):\n",
    "        return f'Weights are {self.weights} and bias is {self.age}'"
   ]
  },
  {
   "cell_type": "code",
   "execution_count": null,
   "metadata": {},
   "outputs": [],
   "source": [
    "or_neuron = Neuron([1, 1], 1)\n",
    "and_neuron = Neuron([1, 1], 2)\n",
    "inputs = [[0,0],[0,1],[1,0],[1,1]]"
   ]
  },
  {
   "cell_type": "code",
   "execution_count": null,
   "metadata": {},
   "outputs": [],
   "source": [
    "print('or-gate')\n",
    "print('x1, x2, outcome')\n",
    "for input_x in inputs:\n",
    "    print(input_x, '   ', or_neuron.calculate_neuron(input_x))"
   ]
  },
  {
   "cell_type": "code",
   "execution_count": null,
   "metadata": {},
   "outputs": [],
   "source": [
    "print('and-gate')\n",
    "print('x1, x2, outcome')\n",
    "for input_x in inputs:\n",
    "    print(input_x, '   ', and_neuron.calculate_neuron(input_x))"
   ]
  },
  {
   "cell_type": "code",
   "execution_count": null,
   "metadata": {},
   "outputs": [],
   "source": [
    "# Adjusting weights and bias so outcome is obvious.\n",
    "or_neuron = Neuron([2, 2], 2)\n",
    "and_neuron = Neuron([2, 2], 4)"
   ]
  },
  {
   "cell_type": "code",
   "execution_count": null,
   "metadata": {},
   "outputs": [],
   "source": [
    "print('or-gate')\n",
    "print('x1, x2, outcome')\n",
    "for input_x in inputs:\n",
    "    print(input_x, '   ', or_neuron.calculate_neuron(input_x))"
   ]
  },
  {
   "cell_type": "code",
   "execution_count": null,
   "metadata": {},
   "outputs": [],
   "source": [
    "print('and-gate')\n",
    "print('x1, x2, outcome')\n",
    "for input_x in inputs:\n",
    "    print(input_x, '   ', and_neuron.calculate_neuron(input_x))"
   ]
  }
 ],
 "metadata": {
  "kernelspec": {
   "display_name": "Python 3.7.5 64-bit",
   "language": "python",
   "name": "python37564bit6aefb534615b451c8b9f779fc82cec76"
  },
  "language_info": {
   "codemirror_mode": {
    "name": "ipython",
    "version": 3
   },
   "file_extension": ".py",
   "mimetype": "text/x-python",
   "name": "python",
   "nbconvert_exporter": "python",
   "pygments_lexer": "ipython3",
   "version": "3.7.5"
  }
 },
 "nbformat": 4,
 "nbformat_minor": 4
}
