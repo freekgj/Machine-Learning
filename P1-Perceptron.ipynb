{
 "cells": [
  {
   "cell_type": "code",
   "execution_count": 37,
   "metadata": {
    "pycharm": {
     "is_executing": false
    }
   },
   "outputs": [],
   "source": [
    "class Perceptron:\n",
    "    def __init__(self, weights, bias):\n",
    "        self.weights = weights\n",
    "        self.bias = bias\n",
    "    \n",
    "    def calculate_perceptron(self, inputs):\n",
    "        list_outputs = []\n",
    "        if len(inputs) == len(self.weights):\n",
    "            for x, weight in zip(inputs, self.weights):\n",
    "                list_outputs.append(x*weight)\n",
    "        else:\n",
    "            raise ValueError(\"The list of inputs and weights must have the same length\")\n",
    "         \n",
    "        output = sum(list_outputs) + self.bias \n",
    "        return self.step_function(output)\n",
    "    \n",
    "    def step_function(self, output):\n",
    "        if output >= 0:\n",
    "            return_value = 1\n",
    "        else:\n",
    "            return_value = 0\n",
    "        return return_value\n",
    "    \n",
    "    def __str__(self):\n",
    "        return f'Weights are {self.weights} and bias is {self.bias}'"
   ]
  },
  {
   "cell_type": "code",
   "execution_count": 38,
   "metadata": {
    "pycharm": {
     "is_executing": false
    }
   },
   "outputs": [],
   "source": [
    "class Perceptron_layer:\n",
    "    def __init__(self, perceptrons):\n",
    "        self.perceptrons = perceptrons\n",
    "    \n",
    "    def calculate_layer(self, inputs):\n",
    "        output = []\n",
    "        for perceptron in self.perceptrons:\n",
    "            output.append(perceptron.calculate_perceptron(inputs))\n",
    "        return output\n",
    "    \n",
    "    def __str__(self):\n",
    "        return f'The layer consist out of these perceptrons: {self.perceptrons}'"
   ]
  },
  {
   "cell_type": "code",
   "execution_count": 39,
   "metadata": {
    "pycharm": {
     "is_executing": false
    }
   },
   "outputs": [],
   "source": [
    "class Perceptron_network:\n",
    "    def __init__(self, perceptron_layers):\n",
    "        self.perceptron_layers = perceptron_layers\n",
    "    \n",
    "    def feed_forward(self, inputs):\n",
    "        for perceptron_layer in self.perceptron_layers:\n",
    "            inputs = perceptron_layer.calculate_layer(inputs)\n",
    "        return [inputs[0], inputs[1]]\n",
    "    \n",
    "        def __str__(self):\n",
    "            return f'The network consist out of these perceptron_layers: {self.perceptron_layers}'"
   ]
  },
  {
   "cell_type": "code",
   "execution_count": 42,
   "metadata": {},
   "outputs": [],
   "source": [
    "hidden_layer_X1 = Perceptron([1, 0], -0.5)\n",
    "# Fill up the Neuron weights with zero's equal to that many values you want to put into the Neural Network.\n",
    "# Warning! When you give weights 0 and 1 to neuron_X2 the value will set to only the value of x2. If not this neuron will get the value of x1!\n",
    "hidden_layer_X2 = Perceptron([0, 1], -0.5)\n",
    "\n",
    "hidden_neuron_NAND = Perceptron([-0.2, -0.2], 0.3)\n",
    "hidden_neuron_OR = Perceptron([1, 1], -1)\n",
    "hidden_neuron_AND = Perceptron([1, 1], -1.5)\n",
    "\n",
    "output_neuron_sum = Perceptron([1, 1, 0], -1.5) # AND-poort\n",
    "output_neuron_carry = Perceptron([0, 0, 1], -0.5) \n",
    "\n",
    "input_perceptron_layer = Perceptron_layer([hidden_layer_X1, hidden_layer_X2])\n",
    "hidden_perceptron_layer = Perceptron_layer([hidden_neuron_NAND, hidden_neuron_OR, hidden_neuron_AND])\n",
    "output_perceptron_layer = Perceptron_layer([output_neuron_carry, output_neuron_sum])\n",
    "\n",
    "neural_network_perceptrons = Perceptron_network([input_perceptron_layer, hidden_perceptron_layer, output_perceptron_layer])"
   ]
  },
  {
   "cell_type": "code",
   "execution_count": 43,
   "metadata": {},
   "outputs": [
    {
     "name": "stdout",
     "output_type": "stream",
     "text": [
      "x1, x2, carry, sum\n",
      "[0, 0]     [0, 0]\n",
      "[0, 1]     [0, 1]\n",
      "[1, 0]     [0, 1]\n",
      "[1, 1]     [1, 0]\n"
     ]
    }
   ],
   "source": [
    "inputs = [[0,0],[0,1],[1,0],[1,1]]\n",
    "\n",
    "print('x1, x2, carry, sum')\n",
    "for input_x in inputs:\n",
    "    print(input_x, '   ', neural_network_perceptrons.feed_forward(input_x))\n"
   ]
  },
  {
   "cell_type": "code",
   "execution_count": 44,
   "metadata": {},
   "outputs": [
    {
     "name": "stdout",
     "output_type": "stream",
     "text": [
      "0  keer  -0.5  =  -0.0\n",
      "0  keer  -0.5  =  -0.0\n",
      "outcome =  0.0\n",
      "bias =  -0.5\n",
      "_______________\n",
      "0  keer  -0.5  =  -0.0\n",
      "1  keer  -0.5  =  -0.5\n",
      "outcome =  -0.5\n",
      "bias =  -0.5\n",
      "_______________\n",
      "1  keer  -0.5  =  -0.5\n",
      "0  keer  -0.5  =  -0.0\n",
      "outcome =  -0.5\n",
      "bias =  -0.5\n",
      "_______________\n",
      "1  keer  -0.5  =  -0.5\n",
      "1  keer  -0.5  =  -0.5\n",
      "outcome =  -1.0\n",
      "bias =  -0.5\n",
      "_______________\n",
      "END TESTCASE \n",
      " \n",
      "\n",
      "None\n",
      "0  keer  1  =  0\n",
      "0  keer  1  =  0\n",
      "outcome =  0\n",
      "bias =  1\n",
      "_______________\n",
      "0  keer  1  =  0\n",
      "1  keer  1  =  1\n",
      "outcome =  1\n",
      "bias =  1\n",
      "_______________\n",
      "1  keer  1  =  1\n",
      "0  keer  1  =  0\n",
      "outcome =  1\n",
      "bias =  1\n",
      "_______________\n",
      "1  keer  1  =  1\n",
      "1  keer  1  =  1\n",
      "outcome =  2\n",
      "bias =  1\n",
      "_______________\n",
      "END TESTCASE \n",
      " \n",
      "\n",
      "None\n",
      "0  keer  1  =  0\n",
      "0  keer  1  =  0\n",
      "outcome =  0\n",
      "bias =  2\n",
      "_______________\n",
      "0  keer  1  =  0\n",
      "1  keer  1  =  1\n",
      "outcome =  1\n",
      "bias =  2\n",
      "_______________\n",
      "1  keer  1  =  1\n",
      "0  keer  1  =  0\n",
      "outcome =  1\n",
      "bias =  2\n",
      "_______________\n",
      "1  keer  1  =  1\n",
      "1  keer  1  =  1\n",
      "outcome =  2\n",
      "bias =  2\n",
      "_______________\n",
      "END TESTCASE \n",
      " \n",
      "\n",
      "None\n",
      "0  keer  -1  =  0\n",
      "0  keer  1  =  0\n",
      "outcome =  0\n",
      "bias =  1\n",
      "_______________\n",
      "0  keer  -1  =  0\n",
      "1  keer  1  =  1\n",
      "outcome =  1\n",
      "bias =  1\n",
      "_______________\n",
      "1  keer  -1  =  -1\n",
      "0  keer  1  =  0\n",
      "outcome =  -1\n",
      "bias =  1\n",
      "_______________\n",
      "1  keer  -1  =  -1\n",
      "1  keer  1  =  1\n",
      "outcome =  0\n",
      "bias =  1\n",
      "_______________\n",
      "END TESTCASE \n",
      " \n",
      "\n",
      "None\n"
     ]
    }
   ],
   "source": [
    "def test_case(weights, bias):\n",
    "    posible_inputs = [[0,0],[0,1],[1,0],[1,1]]\n",
    "    for pos_input in posible_inputs:\n",
    "        outcome = []\n",
    "        for pos_in, weight in zip(pos_input, weights):\n",
    "            print(pos_in, ' keer ', weight, ' = ', pos_in * weight)\n",
    "            outcome.append(pos_in * weight)\n",
    "        print('outcome = ', sum(outcome))\n",
    "        print('bias = ', bias)\n",
    "        print('_______________')\n",
    "    print(\"END TESTCASE \\n \\n\")\n",
    "\n",
    "print(test_case([-.5, -.5], -.5)) #nand\n",
    "print(test_case([1, 1], 1)) # or\n",
    "print(test_case([1, 1], 2)) # and\n",
    "print(test_case([-1, 1], 1)) # ??"
   ]
  },
  {
   "cell_type": "code",
   "execution_count": null,
   "metadata": {},
   "outputs": [],
   "source": []
  }
 ],
 "metadata": {
  "kernelspec": {
   "display_name": "Python 3.7.5 64-bit",
   "language": "python",
   "name": "python37564bit6aefb534615b451c8b9f779fc82cec76"
  },
  "language_info": {
   "codemirror_mode": {
    "name": "ipython",
    "version": 3
   },
   "file_extension": ".py",
   "mimetype": "text/x-python",
   "name": "python",
   "nbconvert_exporter": "python",
   "pygments_lexer": "ipython3",
   "version": "3.7.5"
  }
 },
 "nbformat": 4,
 "nbformat_minor": 5
}
