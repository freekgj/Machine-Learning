{
 "cells": [
  {
   "cell_type": "code",
   "execution_count": 151,
   "metadata": {},
   "outputs": [],
   "source": [
    "import numpy as np"
   ]
  },
  {
   "cell_type": "code",
   "execution_count": 146,
   "metadata": {
    "pycharm": {
     "is_executing": false
    }
   },
   "outputs": [],
   "source": [
    "class Neuron:\n",
    "    def __init__(self, weights, bias):\n",
    "        self.weights = weights\n",
    "        self.bias = bias\n",
    "    \n",
    "    def calculate_neuron(self, inputs):\n",
    "        \"\"\"\n",
    "        Calculate the output of this neuron\n",
    "    \n",
    "        \"\"\"\n",
    "        list_outputs = []\n",
    "        if len(inputs) == len(self.weights):\n",
    "            for x, weight in zip(inputs, self.weights):\n",
    "                list_outputs.append(x*weight)\n",
    "        else:\n",
    "            raise ValueError(\"The list of inputs and weights must have the same length\")\n",
    "         \n",
    "        outcome = sum(list_outputs) + self.bias\n",
    "        \n",
    "        output_sigmoid = self.sigmoid_function(outcome)\n",
    "        return output_sigmoid\n",
    "    \n",
    "    def sigmoid_function(self, x):\n",
    "        return 1/(1+np.exp(-x))\n",
    "    \n",
    "    def __str__(self):\n",
    "        return f'Weights are {self.weights} and bias is {self.bias}'"
   ]
  },
  {
   "cell_type": "code",
   "execution_count": 147,
   "metadata": {
    "pycharm": {
     "is_executing": false
    }
   },
   "outputs": [],
   "source": [
    "class Neuron_layer:\n",
    "    def __init__(self, neurons):\n",
    "        self.neurons = neurons\n",
    "    \n",
    "    def calculate_layer(self, inputs):\n",
    "        output = []\n",
    "        for neuron in self.neurons:\n",
    "            output.append(neuron.calculate_neuron(inputs))\n",
    "        return output\n",
    "    \n",
    "    def __str__(self):\n",
    "        return f'The layer consist out of these neurons: {self.neurons}'"
   ]
  },
  {
   "cell_type": "code",
   "execution_count": 148,
   "metadata": {
    "pycharm": {
     "is_executing": false
    }
   },
   "outputs": [],
   "source": [
    "class Neuron_network:\n",
    "    def __init__(self, neuron_layers):\n",
    "        self.neuron_layers = neuron_layers\n",
    "    \n",
    "    def feed_forward(self, inputs):\n",
    "        for neuron_layer in self.neuron_layers:\n",
    "            \n",
    "            inputs = neuron_layer.calculate_layer(inputs)\n",
    "        return inputs #[inputs[0], inputs[1]]\n",
    "    \n",
    "        def __str__(self):\n",
    "            return f'The network consist out of these perceptron_layers: {self.neuron_layers}'"
   ]
  },
  {
   "cell_type": "code",
   "execution_count": 149,
   "metadata": {},
   "outputs": [],
   "source": [
    "# NOR-poort\n",
    "\n",
    "input_neuron1 = Neuron([100, 0, 0], -10)\n",
    "input_neuron2 = Neuron([0, 100, 0], -10)\n",
    "input_neuron3 = Neuron([0, 0, 100], -10)\n",
    "\n",
    "nor_neuron = Neuron([-20, -20, -20], 10)\n",
    "\n",
    "input_layer = Neuron_layer([input_neuron1, input_neuron2, input_neuron3])\n",
    "output_layer = Neuron_layer([nor_neuron])\n",
    "\n",
    "neural_network_NOR = Neuron_network([input_layer, output_layer])"
   ]
  },
  {
   "cell_type": "code",
   "execution_count": 150,
   "metadata": {},
   "outputs": [
    {
     "name": "stdout",
     "output_type": "stream",
     "text": [
      "x1, x2, carry, sum\n",
      "[0, 0, 0]     [0.999954478310378]\n",
      "[0, 0, 1]     [4.531550858098706e-05]\n",
      "[0, 1, 0]     [4.53155085809869e-05]\n",
      "[0, 1, 1]     [9.349130502043478e-14]\n",
      "[1, 0, 0]     [4.53155085809869e-05]\n",
      "[1, 0, 1]     [9.349130502043478e-14]\n",
      "[1, 1, 0]     [9.349130502043543e-14]\n",
      "[1, 1, 1]     [1.928749847963918e-22]\n"
     ]
    }
   ],
   "source": [
    "# NOR_network activate\n",
    "\n",
    "inputs = [[0,0,0],[0,0,1],[0,1,0],[0,1,1],[1,0,0],[1,0,1],[1,1,0],[1,1,1]]\n",
    "\n",
    "print('x1, x2, NOR_port)\n",
    "for input_x in inputs:\n",
    "    print(input_x, '   ', neural_network_NOR.feed_forward(input_x))"
   ]
  },
  {
   "cell_type": "code",
   "execution_count": null,
   "metadata": {},
   "outputs": [],
   "source": [
    "# half adder\n",
    "\n",
    "hidden_layer_X1 = Neuron([100, 0], -10)\n",
    "# Fill up the Neuron weights with zero's equal to that many values you want to put into the Neural Network.\n",
    "# Warning! When you give weights 0 and 1 to neuron_X2 the value will set to only the value of x2. If not this neuron will get the value of x1!\n",
    "hidden_layer_X2 = Neuron([0, 100], -10)\n",
    "\n",
    "hidden_neuron_NAND = Neuron([-60, -60], 100)\n",
    "hidden_neuron_OR = Neuron([20, 20], -10)\n",
    "hidden_neuron_AND = Neuron([30, 30], -40)\n",
    "\n",
    "output_neuron_sum = Neuron([15, 15, 0], -20) # AND-poort\n",
    "output_neuron_carry = Neuron([0, 0, 30], -20) \n",
    "\n",
    "input_neuron_layer = Neuron_layer([hidden_layer_X1, hidden_layer_X2])\n",
    "hidden_neuron_layer = Neuron_layer([hidden_neuron_NAND, hidden_neuron_OR, hidden_neuron_AND])\n",
    "output_neuron_layer = Neuron_layer([output_neuron_carry, output_neuron_sum])\n",
    "\n",
    "neural_network_neurons = Neuron_network([input_neuron_layer, hidden_neuron_layer, output_neuron_layer])"
   ]
  },
  {
   "cell_type": "markdown",
   "metadata": {},
   "source": [
    "Bij sigmoid gaan we er vanuit de het omslagpunt altijd op de nul ligt. Daarom kun je dat omslagpunt niet veranderen. Dan werkt de sigmoid functie niet meer."
   ]
  },
  {
   "cell_type": "code",
   "execution_count": null,
   "metadata": {},
   "outputs": [],
   "source": [
    "# half adder activate\n",
    "\n",
    "inputs = [[0,0],[0,1],[1,0],[1,1]]\n",
    "\n",
    "print('x1, x2, carry, sum')\n",
    "for input_x in inputs:\n",
    "    print(input_x, '   ', neural_network_neurons.feed_forward(input_x))"
   ]
  }
 ],
 "metadata": {
  "kernelspec": {
   "display_name": "Python 3.7.5 64-bit",
   "language": "python",
   "name": "python37564bit6aefb534615b451c8b9f779fc82cec76"
  },
  "language_info": {
   "codemirror_mode": {
    "name": "ipython",
    "version": 3
   },
   "file_extension": ".py",
   "mimetype": "text/x-python",
   "name": "python",
   "nbconvert_exporter": "python",
   "pygments_lexer": "ipython3",
   "version": "3.7.5"
  }
 },
 "nbformat": 4,
 "nbformat_minor": 5
}
