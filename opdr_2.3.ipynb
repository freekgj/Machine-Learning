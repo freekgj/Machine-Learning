{
 "cells": [
  {
   "cell_type": "code",
   "execution_count": 7,
   "id": "rotary-particular",
   "metadata": {},
   "outputs": [],
   "source": [
    "class Gate:\n",
    "    def __init__(self, weights, bias):\n",
    "        self.weights = weights\n",
    "        self.bias = bias\n",
    "        \n",
    "    def calculate(self, inputs):\n",
    "        output = []\n",
    "        for input_X, weight in zip(inputs, self.weights):\n",
    "            output.append(input_X*weight)\n",
    "        return int(sum(output) >= self.bias)"
   ]
  },
  {
   "cell_type": "code",
   "execution_count": 8,
   "id": "royal-wednesday",
   "metadata": {},
   "outputs": [
    {
     "name": "stdout",
     "output_type": "stream",
     "text": [
      "1\n",
      "0\n",
      "0\n",
      "0\n"
     ]
    }
   ],
   "source": [
    "gate_nor = Gate([-1, -1], 0)\n",
    "\n",
    "inputs = [[0,0],[0,1],[1,0],[1,1]]\n",
    "\n",
    "for input_x in inputs:\n",
    "    print(gate_nor.calculate(input_x))\n"
   ]
  },
  {
   "cell_type": "code",
   "execution_count": null,
   "id": "common-cigarette",
   "metadata": {},
   "outputs": [],
   "source": []
  }
 ],
 "metadata": {
  "kernelspec": {
   "display_name": "Python 3",
   "language": "python",
   "name": "python3"
  },
  "language_info": {
   "codemirror_mode": {
    "name": "ipython",
    "version": 3
   },
   "file_extension": ".py",
   "mimetype": "text/x-python",
   "name": "python",
   "nbconvert_exporter": "python",
   "pygments_lexer": "ipython3",
   "version": "3.8.5"
  }
 },
 "nbformat": 4,
 "nbformat_minor": 5
}
