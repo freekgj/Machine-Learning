{
 "cells": [
  {
   "cell_type": "code",
   "execution_count": 76,
   "id": "rotary-particular",
   "metadata": {},
   "outputs": [],
   "source": [
    "class Gate:\n",
    "    def __init__(self, weights, bias):\n",
    "        self.weights = weights\n",
    "        self.bias = bias\n",
    "        \n",
    "    def calculate(self, inputs):\n",
    "        output = []\n",
    "        for input_X, weight in zip(inputs, self.weights):\n",
    "            #print(input_X, weight)\n",
    "            output.append(input_X*weight)\n",
    "        #print(output, self.bias)\n",
    "        #print((sum(output) >= self.bias))\n",
    "        #print('________')\n",
    "        return int(sum(output) >= self.bias)"
   ]
  },
  {
   "cell_type": "code",
   "execution_count": 77,
   "id": "royal-wednesday",
   "metadata": {},
   "outputs": [],
   "source": [
    "gate_nand = Gate([-.5, -.5], -.5)\n",
    "gate_or = Gate([1, 1], 1)\n",
    "gate_and = Gate([1, 1], 2)"
   ]
  },
  {
   "cell_type": "code",
   "execution_count": 78,
   "id": "typical-mining",
   "metadata": {},
   "outputs": [
    {
     "name": "stdout",
     "output_type": "stream",
     "text": [
      "0\n",
      "1\n",
      "1\n",
      "0\n"
     ]
    }
   ],
   "source": [
    "inputs = [[0,0],[0,1],[1,0],[1,1]]\n",
    "\n",
    "for input_x in inputs:\n",
    "    output_nand = gate_nand.calculate(input_x)\n",
    "    output_or = gate_or.calculate(input_x)\n",
    "    print(gate_and.calculate([output_nand, output_or]))"
   ]
  },
  {
   "cell_type": "code",
   "execution_count": null,
   "id": "common-cigarette",
   "metadata": {},
   "outputs": [],
   "source": []
  },
  {
   "cell_type": "code",
   "execution_count": null,
   "id": "finnish-estonia",
   "metadata": {},
   "outputs": [],
   "source": []
  }
 ],
 "metadata": {
  "kernelspec": {
   "display_name": "Python 3",
   "language": "python",
   "name": "python3"
  },
  "language_info": {
   "codemirror_mode": {
    "name": "ipython",
    "version": 3
   },
   "file_extension": ".py",
   "mimetype": "text/x-python",
   "name": "python",
   "nbconvert_exporter": "python",
   "pygments_lexer": "ipython3",
   "version": "3.8.5"
  }
 },
 "nbformat": 4,
 "nbformat_minor": 5
}
