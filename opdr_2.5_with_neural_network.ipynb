{
 "cells": [
  {
   "cell_type": "code",
   "execution_count": 2,
   "id": "reserved-event",
   "metadata": {
    "pycharm": {
     "is_executing": false
    }
   },
   "outputs": [],
   "source": [
    "class Neuron:\n",
    "    def __init__(self, weights, bias):\n",
    "        self.weights = weights\n",
    "        self.bias = bias\n",
    "    \n",
    "    def calculate_neuron(self, inputs):\n",
    "        list_outputs = []\n",
    "        for x, weight in zip(inputs, self.weights):\n",
    "            list_outputs.append(x*weight)\n",
    "        output = int(sum(list_outputs) >= self.bias)\n",
    "        return output"
   ]
  },
  {
   "cell_type": "code",
   "execution_count": 7,
   "id": "sublime-copying",
   "metadata": {
    "pycharm": {
     "is_executing": false
    }
   },
   "outputs": [],
   "source": [
    "class Layer:\n",
    "    def __init__(self, neurons):\n",
    "        self.neurons = neurons\n",
    "    \n",
    "    def calculate_layer(self, inputs):\n",
    "        output = []\n",
    "        for neuron in self.neurons:\n",
    "            output.append(neuron.calculate_neuron(inputs))\n",
    "        return output"
   ]
  },
  {
   "cell_type": "code",
   "execution_count": 8,
   "id": "motivated-negative",
   "metadata": {
    "pycharm": {
     "is_executing": false
    }
   },
   "outputs": [],
   "source": [
    "class Network:\n",
    "    def __init__(self, layers):\n",
    "        self.layers = layers\n",
    "    \n",
    "    def feed_forward(self, inputs):\n",
    "        for layer in self.layers:\n",
    "            inputs = layer.calculate_layer(inputs)\n",
    "        return [inputs[0], inputs[1]]"
   ]
  },
  {
   "cell_type": "code",
   "execution_count": 9,
   "id": "portable-swedish",
   "metadata": {
    "pycharm": {
     "is_executing": false
    }
   },
   "outputs": [
    {
     "ename": "NameError",
     "evalue": "name 'output_neuron_carry' is not defined",
     "output_type": "error",
     "traceback": [
      "\u001b[1;31m---------------------------------------------------------------------------\u001b[0m",
      "\u001b[1;31mNameError\u001b[0m                                 Traceback (most recent call last)",
      "\u001b[1;32m<ipython-input-9-652e85c03226>\u001b[0m in \u001b[0;36m<module>\u001b[1;34m\u001b[0m\n\u001b[0;32m      8\u001b[0m \u001b[0minput_layer\u001b[0m \u001b[1;33m=\u001b[0m \u001b[0mLayer\u001b[0m\u001b[1;33m(\u001b[0m\u001b[1;33m[\u001b[0m\u001b[0minput_neuron_X1\u001b[0m\u001b[1;33m,\u001b[0m \u001b[0minput_neuron_X2\u001b[0m\u001b[1;33m]\u001b[0m\u001b[1;33m)\u001b[0m\u001b[1;33m\u001b[0m\u001b[1;33m\u001b[0m\u001b[0m\n\u001b[0;32m      9\u001b[0m \u001b[0mhidden_layer\u001b[0m \u001b[1;33m=\u001b[0m \u001b[0mLayer\u001b[0m\u001b[1;33m(\u001b[0m\u001b[1;33m[\u001b[0m\u001b[0mhidden_neuron_NAND\u001b[0m\u001b[1;33m,\u001b[0m \u001b[0mhidden_neuron_OR\u001b[0m\u001b[1;33m]\u001b[0m\u001b[1;33m)\u001b[0m\u001b[1;33m\u001b[0m\u001b[1;33m\u001b[0m\u001b[0m\n\u001b[1;32m---> 10\u001b[1;33m \u001b[0moutput_layer\u001b[0m \u001b[1;33m=\u001b[0m \u001b[0mLayer\u001b[0m\u001b[1;33m(\u001b[0m\u001b[1;33m[\u001b[0m\u001b[0moutput_neuron_carry\u001b[0m\u001b[1;33m,\u001b[0m \u001b[0moutput_neuron_sum\u001b[0m\u001b[1;33m]\u001b[0m\u001b[1;33m)\u001b[0m\u001b[1;33m\u001b[0m\u001b[1;33m\u001b[0m\u001b[0m\n\u001b[0m\u001b[0;32m     11\u001b[0m \u001b[1;33m\u001b[0m\u001b[0m\n\u001b[0;32m     12\u001b[0m \u001b[0mneural_network\u001b[0m \u001b[1;33m=\u001b[0m \u001b[0mNetwork\u001b[0m\u001b[1;33m(\u001b[0m\u001b[1;33m[\u001b[0m\u001b[0minput_layer\u001b[0m\u001b[1;33m,\u001b[0m \u001b[0mhidden_layer\u001b[0m\u001b[1;33m,\u001b[0m \u001b[0moutput_layer\u001b[0m\u001b[1;33m]\u001b[0m\u001b[1;33m)\u001b[0m\u001b[1;33m\u001b[0m\u001b[1;33m\u001b[0m\u001b[0m\n",
      "\u001b[1;31mNameError\u001b[0m: name 'output_neuron_carry' is not defined"
     ]
    }
   ],
   "source": [
    "input_neuron_X1 = Neuron([1], 1)\n",
    "# Warning! When you give weights 0 and 1 to neuron_X2 the value will set to only the value of x2. If not this neuron will get the value of x1!\n",
    "input_neuron_X2 = Neuron([0, 1], 1)\n",
    "\n",
    "hidden_neuron_NAND = Neuron([-0.5, -0.5], -0.5)\n",
    "hidden_neuron_OR = Neuron([1, 1], 1)\n",
    "\n",
    "input_layer = Layer([input_neuron_X1, input_neuron_X2])\n",
    "hidden_layer = Layer([hidden_neuron_NAND, hidden_neuron_OR])\n",
    "output_layer = Layer([output_neuron_carry, output_neuron_sum])\n",
    "\n",
    "neural_network = Network([input_layer, hidden_layer, output_layer])"
   ]
  },
  {
   "cell_type": "code",
   "execution_count": 498,
   "id": "digital-salem",
   "metadata": {
    "pycharm": {
     "is_executing": false
    }
   },
   "outputs": [
    {
     "name": "stdout",
     "output_type": "stream",
     "text": [
      "x1, x2, carry, sum\n",
      "[0, 0] [0, 0]\n",
      "[0, 1] [0, 1]\n",
      "[1, 0] [0, 1]\n",
      "[1, 1] [1, 0]\n"
     ]
    }
   ],
   "source": [
    "inputs = [[0,0],[0,1],[1,0],[1,1]]\n",
    "print('x1, x2, carry, sum')\n",
    "for input_x in inputs:\n",
    "    print(input_x, neural_network.feed_forward(input_x))\n"
   ]
  },
  {
   "cell_type": "code",
   "execution_count": 491,
   "id": "respected-gospel",
   "metadata": {
    "pycharm": {
     "is_executing": false
    }
   },
   "outputs": [
    {
     "name": "stdout",
     "output_type": "stream",
     "text": [
      "0  keer  1  =  0\n",
      "0  keer  1  =  0\n",
      "outcome =  0\n",
      "bias =  1\n",
      "_______________\n",
      "0  keer  1  =  0\n",
      "1  keer  1  =  1\n",
      "outcome =  1\n",
      "bias =  1\n",
      "_______________\n",
      "1  keer  1  =  1\n",
      "0  keer  1  =  0\n",
      "outcome =  1\n",
      "bias =  1\n",
      "_______________\n",
      "1  keer  1  =  1\n",
      "1  keer  1  =  1\n",
      "outcome =  2\n",
      "bias =  1\n",
      "_______________\n",
      "END TESTCASE \n",
      " \n",
      "\n",
      "None\n",
      "0  keer  1  =  0\n",
      "0  keer  1  =  0\n",
      "outcome =  0\n",
      "bias =  2\n",
      "_______________\n",
      "0  keer  1  =  0\n",
      "1  keer  1  =  1\n",
      "outcome =  1\n",
      "bias =  2\n",
      "_______________\n",
      "1  keer  1  =  1\n",
      "0  keer  1  =  0\n",
      "outcome =  1\n",
      "bias =  2\n",
      "_______________\n",
      "1  keer  1  =  1\n",
      "1  keer  1  =  1\n",
      "outcome =  2\n",
      "bias =  2\n",
      "_______________\n",
      "END TESTCASE \n",
      " \n",
      "\n",
      "None\n",
      "0  keer  -0.5  =  -0.0\n",
      "0  keer  -0.5  =  -0.0\n",
      "outcome =  0.0\n",
      "bias =  -0.6\n",
      "_______________\n",
      "0  keer  -0.5  =  -0.0\n",
      "1  keer  -0.5  =  -0.5\n",
      "outcome =  -0.5\n",
      "bias =  -0.6\n",
      "_______________\n",
      "1  keer  -0.5  =  -0.5\n",
      "0  keer  -0.5  =  -0.0\n",
      "outcome =  -0.5\n",
      "bias =  -0.6\n",
      "_______________\n",
      "1  keer  -0.5  =  -0.5\n",
      "1  keer  -0.5  =  -0.5\n",
      "outcome =  -1.0\n",
      "bias =  -0.6\n",
      "_______________\n",
      "END TESTCASE \n",
      " \n",
      "\n",
      "None\n",
      "0  keer  -1  =  0\n",
      "0  keer  1  =  0\n",
      "outcome =  0\n",
      "bias =  1\n",
      "_______________\n",
      "0  keer  -1  =  0\n",
      "1  keer  1  =  1\n",
      "outcome =  1\n",
      "bias =  1\n",
      "_______________\n",
      "1  keer  -1  =  -1\n",
      "0  keer  1  =  0\n",
      "outcome =  -1\n",
      "bias =  1\n",
      "_______________\n",
      "1  keer  -1  =  -1\n",
      "1  keer  1  =  1\n",
      "outcome =  0\n",
      "bias =  1\n",
      "_______________\n",
      "END TESTCASE \n",
      " \n",
      "\n",
      "None\n"
     ]
    }
   ],
   "source": [
    "def test_case(weights, bias):\n",
    "    posible_inputs = [[0,0],[0,1],[1,0],[1,1]]\n",
    "    for pos_input in posible_inputs:\n",
    "        outcome = []\n",
    "        for pos_in, weight in zip(pos_input, weights):\n",
    "            print(pos_in, ' keer ', weight, ' = ', pos_in * weight)\n",
    "            outcome.append(pos_in * weight)\n",
    "        print('outcome = ', sum(outcome))\n",
    "        print('bias = ', bias)\n",
    "        print('_______________')\n",
    "    print(\"END TESTCASE \\n \\n\")\n",
    "\n",
    "print(test_case([1, 1], 1)) # or\n",
    "print(test_case([1, 1], 2)) # and\n",
    "print(test_case([-.5, -.5], -.6)) #nand\n",
    "print(test_case([-1, 1], 1))\n",
    "output_neuron_carry = Neuron([1, -1], 1)\n",
    "\n",
    "        \n",
    "    "
   ]
  },
  {
   "cell_type": "code",
   "execution_count": null,
   "id": "complimentary-harbor",
   "metadata": {},
   "outputs": [],
   "source": []
  }
 ],
 "metadata": {
  "kernelspec": {
   "display_name": "Python 3.7.5 64-bit",
   "language": "python",
   "name": "python37564bit6aefb534615b451c8b9f779fc82cec76"
  },
  "language_info": {
   "codemirror_mode": {
    "name": "ipython",
    "version": 3
   },
   "file_extension": ".py",
   "mimetype": "text/x-python",
   "name": "python",
   "nbconvert_exporter": "python",
   "pygments_lexer": "ipython3",
   "version": "3.7.5"
  }
 },
 "nbformat": 4,
 "nbformat_minor": 5
}
